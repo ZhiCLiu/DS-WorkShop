{
  "nbformat": 4,
  "nbformat_minor": 0,
  "metadata": {
    "colab": {
      "provenance": [],
      "include_colab_link": true
    },
    "kernelspec": {
      "name": "python3",
      "display_name": "Python 3"
    },
    "language_info": {
      "name": "python"
    }
  },
  "cells": [
    {
      "cell_type": "markdown",
      "metadata": {
        "id": "view-in-github",
        "colab_type": "text"
      },
      "source": [
        "<a href=\"https://colab.research.google.com/github/ZhiCLiu/DS-WorkShop/blob/main/MNIST_WalkThrough.ipynb\" target=\"_parent\"><img src=\"https://colab.research.google.com/assets/colab-badge.svg\" alt=\"Open In Colab\"/></a>"
      ]
    },
    {
      "cell_type": "code",
      "execution_count": null,
      "metadata": {
        "id": "gezuMaltrVDW"
      },
      "outputs": [],
      "source": [
        "import torch\n",
        "import torch.nn as nn\n",
        "from torch.utils.data import TensorDataset, DataLoader\n",
        "import torch.nn.functional as F\n",
        "from torch.optim import SGD\n",
        "import matplotlib.pyplot as plt \n",
        "\n",
        "import torchvision\n",
        "from torchvision.datasets import MNIST\n",
        "import torchvision.transforms as transforms"
      ]
    },
    {
      "cell_type": "markdown",
      "source": [
        "We'll start off by downloading the MNIST dataset. These consist of pairs of (black & white images, labels)...so for instance, (an image of the number 3, 3). The dataset is available in torchvision. We are downloading it to a new \"data\" directory. \n",
        "\n",
        "The raw images would be pillow files, so to use them in torch, we are applying the ToTensor transform. We'll explore transforms in depth later.\n"
      ],
      "metadata": {
        "id": "FjL9xA233ABP"
      }
    },
    {
      "cell_type": "code",
      "source": [
        "train_dataset = MNIST(root='data/', train=True, download=True, transform=transforms.ToTensor())\n",
        "validation_dataset = MNIST(root='data/', train=False, download=True, transform=transforms.ToTensor())"
      ],
      "metadata": {
        "id": "6r9MM_zSsWHT"
      },
      "execution_count": null,
      "outputs": []
    },
    {
      "cell_type": "markdown",
      "source": [
        "Let's take a look at the first example in the training dataset, train_dataset[0]. This is a tuple, with the first entry being an image (transformed to a torch tensor) and a single numerical label corresponding to the image.\n",
        "\n",
        "A general image is represented via the shape of [height, width, channels]. The height and width are the dimensions of the image. The channels represent the red, green and blue color intensities in a generic color image. Thus each pixel (picture element) in an image is an (r,g,b) tuple...consisting of three numbers denoting the intensities of red, green and blue. The combination of these 3 determines the color of the pixel. All these pixels over the entire height and width give a pattern of colors, that you percieve as a face/sunset/etc.\n",
        "\n",
        "Here, the image tensor is shaped as [chanels, height, width], ie channels-first format. Most other libraries expect channelns last or none, so we'll make simplifications while plotting in matplotlib."
      ],
      "metadata": {
        "id": "wkNnvVwq3uao"
      }
    },
    {
      "cell_type": "code",
      "source": [
        "xb = train_dataset[0][0]\n",
        "plt.imshow(xb[0,...], cmap='gray');\n",
        "print(train_dataset[0][1])"
      ],
      "metadata": {
        "colab": {
          "base_uri": "https://localhost:8080/",
          "height": 283
        },
        "id": "5a6p2K3Os657",
        "outputId": "e5f74a0a-5656-4419-c71b-a1ffa31ad700"
      },
      "execution_count": null,
      "outputs": [
        {
          "output_type": "stream",
          "name": "stdout",
          "text": [
            "5\n"
          ]
        },
        {
          "output_type": "display_data",
          "data": {
            "text/plain": [
              "<Figure size 432x288 with 1 Axes>"
            ],
            "image/png": "[encoded data removed]"
          },
          "metadata": {
            "needs_background": "light"
          }
        }
      ]
    },
    {
      "cell_type": "markdown",
      "source": [
        "Now, we'll create a training and testing/validation data loader. These shuffle the data every epoch and feed-in batches (smaller sized chunks) of data to the model during training.\n",
        "\n",
        "We want this shuffling to offset any false patterns in the data during training, but do not need it during validation/test."
      ],
      "metadata": {
        "id": "Ro0Cu_Qq4jwS"
      }
    },
    {
      "cell_type": "code",
      "source": [
        "train_dl = DataLoader(train_dataset, batch_size=32, shuffle=True)\n",
        "validation_dl = DataLoader(validation_dataset, batch_size=32)"
      ],
      "metadata": {
        "id": "0fjAyJiE66JC"
      },
      "execution_count": null,
      "outputs": []
    },
    {
      "cell_type": "markdown",
      "source": [
        "Here, you'll see that each batch has an (xb, yb) pair.\n",
        "\n",
        "The xb is shaped [batch_size, channels, height, width].\n",
        "\n",
        "The corresponndig yb is shaped [batch_size]."
      ],
      "metadata": {
        "id": "M74TgSln457C"
      }
    },
    {
      "cell_type": "code",
      "source": [
        "for xb,yb in train_dl:\n",
        "  print(xb.shape)\n",
        "  print(yb.shape)\n",
        "  break"
      ],
      "metadata": {
        "colab": {
          "base_uri": "https://localhost:8080/"
        },
        "id": "wxWdNQv57lcl",
        "outputId": "48be65c5-4576-41c1-b8b7-7715680bef82"
      },
      "execution_count": null,
      "outputs": [
        {
          "output_type": "stream",
          "name": "stdout",
          "text": [
            "torch.Size([32, 1, 28, 28])\n",
            "torch.Size([32])\n"
          ]
        }
      ]
    },
    {
      "cell_type": "code",
      "source": [
        "grid_img = torchvision.utils.make_grid(xb, nrow=8)\n",
        "plt.figure(figsize=(16,16))\n",
        "plt.imshow(grid_img.permute(1, 2, 0))"
      ],
      "metadata": {
        "colab": {
          "base_uri": "https://localhost:8080/",
          "height": 518
        },
        "id": "8i4xrGoos9P2",
        "outputId": "daf0efa6-c551-4306-f57e-88e81ddc82bf"
      },
      "execution_count": null,
      "outputs": [
        {
          "output_type": "execute_result",
          "data": {
            "text/plain": [
              "<matplotlib.image.AxesImage at 0x7fa00cea2b10>"
            ]
          },
          "metadata": {},
          "execution_count": 8
        },
        {
          "output_type": "display_data",
          "data": {
            "text/plain": [
              "<Figure size 1152x1152 with 1 Axes>"
            ],
            "image/png": "[encoded data removed]"
          },
          "metadata": {
            "needs_background": "light"
          }
        }
      ]
    },
    {
      "cell_type": "markdown",
      "source": [
        "Now, we'll define our model class just like earlier.\n",
        "\n",
        "A key point to remember is that the individual images are 3D tensors (of shape [1,28,28]). The nn.Linear layers define matrix multiplication of batches of Vectors with their weight matrices. \n",
        "\n",
        "Thus, we need to reshape (or unravel) our inputs to vectors of length heightxwidthxchannels. This enables the fully connected neural network to process these inputs and train. However, it loses a lot of the local structure of the image. For instance, after unraveling, one part of the eye pixels may be at the beginig of the vector, another part may be in the middle and the last part in the end! We'll see how to redress that using convolutions later."
      ],
      "metadata": {
        "id": "7u9_OcotBVtu"
      }
    },
    {
      "cell_type": "code",
      "source": [
        "class MyModel(nn.Module):\n",
        "  def __init__(self, input_shape=28*28, hidden_shape=256, output_shape=10):\n",
        "    super().__init__()\n",
        "    self.layer1 = nn.Linear(input_shape, hidden_shape)\n",
        "    self.layer2 = nn.Linear(hidden_shape, output_shape)\n",
        "    self.relu = nn.ReLU()\n",
        "\n",
        "  def forward(self, xb):\n",
        "    xb = torch.reshape(xb, (xb.shape[0], -1))\n",
        "    x = self.layer1(xb)\n",
        "    x = self.relu(x)\n",
        "    out = self.layer2(x)\n",
        "    return out"
      ],
      "metadata": {
        "id": "ewU-tsRt7v5s"
      },
      "execution_count": null,
      "outputs": []
    },
    {
      "cell_type": "markdown",
      "source": [
        "The model outputs 10 numbers, denoting the scores for each class (from 0,1,2..,9). These can be passed through a softmax function that exponetiate and then normalizes them from scores of each class to probabilities of each class.\n",
        "\n",
        "Our final singleton answer will be the class with the highest probability."
      ],
      "metadata": {
        "id": "7MQBJU4BDpYU"
      }
    },
    {
      "cell_type": "code",
      "source": [
        "test_model = MyModel()\n",
        "temp = test_model(xb)\n",
        "print(xb.shape)\n",
        "print(temp.shape)"
      ],
      "metadata": {
        "colab": {
          "base_uri": "https://localhost:8080/"
        },
        "id": "yU5mfp4mB7TX",
        "outputId": "ac0c919d-286a-48b7-851e-255cc015c22c"
      },
      "execution_count": null,
      "outputs": [
        {
          "output_type": "stream",
          "name": "stdout",
          "text": [
            "torch.Size([32, 1, 28, 28])\n",
            "torch.Size([32, 10])\n"
          ]
        }
      ]
    },
    {
      "cell_type": "markdown",
      "source": [
        "While we cant use accuracy as an objective to train (the maximum operator in not differentiable and we need a function whose derivative we can derive), we'd still like to report this metric to laypersons. So, we define a small helper function that calculates accuracy over each batch of predictions."
      ],
      "metadata": {
        "id": "usrtIRCeGJZE"
      }
    },
    {
      "cell_type": "code",
      "source": [
        "def get_accuracy(scores, labels):\n",
        "  softmax_scores = F.softmax(scores, dim=1)\n",
        "  _, predictions = torch.max(softmax_scores, dim=1)\n",
        "  acc = torch.sum(predictions == labels).item()/len(labels)\n",
        "  return acc"
      ],
      "metadata": {
        "id": "0NUVUwCMDe7N"
      },
      "execution_count": null,
      "outputs": []
    },
    {
      "cell_type": "markdown",
      "source": [
        "We test this for ann untrained neural network. The expected answer should be around 0.1...because there are 10 classes of numbers and a random guess would have 1/10 chance of being correct."
      ],
      "metadata": {
        "id": "Q29J6d7GGY7b"
      }
    },
    {
      "cell_type": "code",
      "source": [
        "get_accuracy(temp, yb)"
      ],
      "metadata": {
        "colab": {
          "base_uri": "https://localhost:8080/"
        },
        "id": "DWASFP3hF_Z-",
        "outputId": "f8dcffdb-ea87-4f4f-93d3-97ec070b9a1e"
      },
      "execution_count": null,
      "outputs": [
        {
          "output_type": "execute_result",
          "data": {
            "text/plain": [
              "0.03125"
            ]
          },
          "metadata": {},
          "execution_count": 37
        }
      ]
    },
    {
      "cell_type": "markdown",
      "source": [
        "We will use the numti-dimension equivalent of the logistic regression loss, referred to as the softmax loss. for each pair of prediction, label...this loss is $- \\frac{1}{m}\\sum y_i \\times log(\\hat{y}_i)$."
      ],
      "metadata": {
        "id": "v-OfrbkeHXA_"
      }
    },
    {
      "cell_type": "code",
      "source": [
        "lr = 0.001\n",
        "num_epochs = 20\n",
        "model = MyModel()\n",
        "\n",
        "loss_fn = F.cross_entropy\n",
        "opt = SGD(model.parameters(),lr=lr)"
      ],
      "metadata": {
        "id": "eCPT9K8FGDWA"
      },
      "execution_count": null,
      "outputs": []
    },
    {
      "cell_type": "code",
      "source": [
        "for epoch in range(num_epochs):\n",
        "  model.train()\n",
        "  for xb, yb in train_dl:\n",
        "    outputs = model(xb)\n",
        "    loss = loss_fn(outputs, yb)\n",
        "    opt.zero_grad()\n",
        "    loss.backward()\n",
        "    opt.step()\n",
        "\n",
        "  model.eval()\n",
        "  batch_accuracies =[]\n",
        "  for xb, yb in validation_dl:\n",
        "    outputs = model(xb)\n",
        "    batch_accuracy = get_accuracy(outputs, yb)\n",
        "    batch_accuracies.append(batch_accuracy)\n",
        "\n",
        "  epoch_accuracy = torch.tensor(batch_accuracies).mean().item()\n",
        "  print(f\"Epoch: {epoch+1} \\t Accuracy: {epoch_accuracy}\")"
      ],
      "metadata": {
        "colab": {
          "base_uri": "https://localhost:8080/"
        },
        "id": "_XyuJiAqIZr5",
        "outputId": "4822db34-1953-4da0-c1bf-01fe05a53718"
      },
      "execution_count": null,
      "outputs": [
        {
          "output_type": "stream",
          "name": "stdout",
          "text": [
            "Epoch: 0 \t Accuracy: 0.7330271601676941\n",
            "Epoch: 1 \t Accuracy: 0.7896365523338318\n",
            "Epoch: 2 \t Accuracy: 0.8309704661369324\n",
            "Epoch: 3 \t Accuracy: 0.8527356386184692\n",
            "Epoch: 4 \t Accuracy: 0.8675119876861572\n",
            "Epoch: 5 \t Accuracy: 0.8753993511199951\n",
            "Epoch: 6 \t Accuracy: 0.881489634513855\n",
            "Epoch: 7 \t Accuracy: 0.887180507183075\n",
            "Epoch: 8 \t Accuracy: 0.8920726776123047\n",
            "Epoch: 9 \t Accuracy: 0.8943690061569214\n",
            "Epoch: 10 \t Accuracy: 0.8977635502815247\n",
            "Epoch: 11 \t Accuracy: 0.898861825466156\n",
            "Epoch: 12 \t Accuracy: 0.9020566940307617\n",
            "Epoch: 13 \t Accuracy: 0.9032548069953918\n",
            "Epoch: 14 \t Accuracy: 0.9050519466400146\n",
            "Epoch: 15 \t Accuracy: 0.9052516222000122\n",
            "Epoch: 16 \t Accuracy: 0.9069488644599915\n",
            "Epoch: 17 \t Accuracy: 0.9092451930046082\n",
            "Epoch: 18 \t Accuracy: 0.9099441170692444\n",
            "Epoch: 19 \t Accuracy: 0.9108426570892334\n"
          ]
        }
      ]
    },
    {
      "cell_type": "code",
      "source": [
        "model.eval()\n",
        "test_image = validation_dataset[1007][0]\n",
        "test_label = validation_dataset[1007][1]\n",
        "outputs = model(test_image)\n",
        "softmax_scores = F.softmax(outputs, dim=1)\n",
        "_, predictions = torch.max(softmax_scores, dim=1)\n",
        "\n",
        "print(\"Prediction:\", predictions.item())\n",
        "print(\"Truth: \", test_label)\n",
        "plt.imshow(test_image[0,...], cmap='gray');"
      ],
      "metadata": {
        "colab": {
          "base_uri": "https://localhost:8080/",
          "height": 302
        },
        "id": "wX-qcN3AbHJq",
        "outputId": "a990b064-972e-4f77-aa1f-927ff9068eda"
      },
      "execution_count": null,
      "outputs": [
        {
          "output_type": "stream",
          "name": "stdout",
          "text": [
            "Prediction: 8\n",
            "Truth:  8\n"
          ]
        },
        {
          "output_type": "display_data",
          "data": {
            "text/plain": [
              "<Figure size 432x288 with 1 Axes>"
            ],
            "image/png": "[encoded data removed]"
          },
          "metadata": {
            "needs_background": "light"
          }
        }
      ]
    },
    {
      "cell_type": "code",
      "source": [
        "torch.save(model.state_dict(), 'my_model_1.pth')"
      ],
      "metadata": {
        "id": "wdJrMVwoc7vt"
      },
      "execution_count": null,
      "outputs": []
    },
    {
      "cell_type": "code",
      "source": [
        "new_model = MyModel()\n",
        "new_model.load_state_dict(torch.load('my_model_1.pth'))"
      ],
      "metadata": {
        "colab": {
          "base_uri": "https://localhost:8080/"
        },
        "id": "eIYro_KtdDgn",
        "outputId": "2ea54160-62bc-41cc-f236-7890509316e0"
      },
      "execution_count": null,
      "outputs": [
        {
          "output_type": "execute_result",
          "data": {
            "text/plain": [
              "<All keys matched successfully>"
            ]
          },
          "metadata": {},
          "execution_count": 63
        }
      ]
    },
    {
      "cell_type": "markdown",
      "source": [
        "***Exercise***\n",
        "\n",
        "Now, based on this code, I'll request you to define, insntantiate and train your own model.\n",
        "\n",
        "This model should have 4 layers each with 1024, 512, 256, 64 neurons each. The input layer still takes in 784-D vectors and the output is 10 dimensional.\n",
        "\n",
        "Instantiate an instance of this class.\n",
        "\n",
        "Train this model instance using a similar outline for 10 epochs, but please dont cut and paste any code. Please use 4 different learning rates in SGD, [0.1,0.01, 0.001, 0.0001].\n",
        "\n",
        "Plot the validationn accuracies over these 4 learning rates to determine the best learning rate hyperparameter.\n",
        "\n",
        "\n"
      ],
      "metadata": {
        "id": "0mdfOPYrZhTo"
      }
    },
    {
      "cell_type": "code",
      "source": [],
      "metadata": {
        "id": "Hs3eqLZrJjJj"
      },
      "execution_count": null,
      "outputs": []
    }
  ]
}