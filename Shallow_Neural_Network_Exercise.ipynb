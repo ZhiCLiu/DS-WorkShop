{
  "nbformat": 4,
  "nbformat_minor": 0,
  "metadata": {
    "colab": {
      "provenance": [],
      "collapsed_sections": [],
      "include_colab_link": true
    },
    "kernelspec": {
      "name": "python3",
      "display_name": "Python 3"
    },
    "language_info": {
      "name": "python"
    }
  },
  "cells": [
    {
      "cell_type": "markdown",
      "metadata": {
        "id": "view-in-github",
        "colab_type": "text"
      },
      "source": [
        "<a href=\"https://colab.research.google.com/github/ZhiCLiu/DS-WorkShop/blob/main/Shallow_Neural_Network_Exercise.ipynb\" target=\"_parent\"><img src=\"https://colab.research.google.com/assets/colab-badge.svg\" alt=\"Open In Colab\"/></a>"
      ]
    },
    {
      "cell_type": "code",
      "execution_count": null,
      "metadata": {
        "id": "wD7AyLF-Q8I2"
      },
      "outputs": [],
      "source": [
        "import numpy as np\n",
        "import matplotlib.pyplot as plt\n",
        "from scipy.special import expit\n",
        "%matplotlib inline"
      ]
    },
    {
      "cell_type": "code",
      "source": [
        "expit(np.random.randn(3,1))"
      ],
      "metadata": {
        "colab": {
          "base_uri": "https://localhost:8080/"
        },
        "id": "sarhMd29uuFb",
        "outputId": "738975b4-0258-47ed-cd77-b43225d35647"
      },
      "execution_count": null,
      "outputs": [
        {
          "output_type": "execute_result",
          "data": {
            "text/plain": [
              "array([[0.51636213],\n",
              "       [0.4554496 ],\n",
              "       [0.25700038]])"
            ]
          },
          "metadata": {},
          "execution_count": 3
        }
      ]
    },
    {
      "cell_type": "code",
      "source": [
        "class ShallowNet:\n",
        "  def __init__(self, input_shape=1, n1 = 32, output_shape=1):\n",
        "    self.W1 =  np.random.randn(n1, input_shape)\n",
        "    self.b1 = np.random.randn(n1,1)\n",
        "    self.W2 =  np.random.randn(output_shape, n1)\n",
        "    self.b2 = np.random.randn(output_shape,1)\n",
        "    self.cache = {}\n",
        "\n",
        "  def predict(self, X):\n",
        "    Z1 = np.dot(self.W1, X) + self.b1\n",
        "    A1 = expit(Z1)\n",
        "    yhat = np.dot(self.W2, A1) + self.b2\n",
        "    self.cache[\"Z1\"], self.cache[\"A1\"], self.cache[\"yhat\"] = Z1, A1, yhat\n",
        "    return yhat\n",
        "\n",
        "  def loss(self, X, Y):\n",
        "    yhat = self.predict(X)\n",
        "    loss = np.dot( (yhat-Y), (yhat-Y).T)\n",
        "    return loss.item()\n",
        "\n",
        "  def grads(self, X, Y):\n",
        "    num_samples = X.shape[1]\n",
        "    dLdy = 2*(self.cache[\"yhat\"] - Y)/num_samples \n",
        "    dLdW2 = np.dot(dLdy, self.cache[\"A1\"].T)\n",
        "    dLdb2 = np.sum(dLdy, axis = 1, keepdims= True)\n",
        "    dLdA1 = np.dot(self.W2.T, dLdy)\n",
        "    dLdZ1 = dLdA1 * self.cache[\"A1\"]*(1.0-self.cache[\"A1\"])\n",
        "    dLdW1 = np.dot(dLdZ1, X.T)\n",
        "    dLdb1 = np.sum(dLdZ1, axis = 1, keepdims= True)\n",
        "\n",
        "    return dLdW1, dLdb1, dLdW2, dLdb2 \n",
        "\n",
        "  def train(self, X, Y, epochs = 1000, lr = 0.01):\n",
        "    history = []\n",
        "    for _ in range(epochs):\n",
        "      loss = self.loss(X,Y)\n",
        "      history.append(loss)\n",
        "      dLW1, dLdb1, dLdW2, dLdb2 = self.grads(X,Y)\n",
        "\n",
        "      self.W1 -= lr*dLW1\n",
        "      self.b1 -= lr*dLdb1\n",
        "      self.W2 -= lr*dLdW2\n",
        "      self.b2 -= lr*dLdb2\n",
        "\n",
        "    plt.plot(history)\n",
        "\n",
        "  def show(self, X, Y):\n",
        "    plt.scatter(X, Y, alpha=0.5)\n",
        "    plt.plot(X[0,:], self.predict(X)[0,:], 'k')"
      ],
      "metadata": {
        "id": "6_LQ0uhERF5d"
      },
      "execution_count": null,
      "outputs": []
    },
    {
      "cell_type": "code",
      "source": [],
      "metadata": {
        "id": "_CePvVY7bWsO"
      },
      "execution_count": null,
      "outputs": []
    },
    {
      "cell_type": "code",
      "source": [
        "m=100\n",
        "X = np.linspace(-1,1,m)\n",
        "X2 = X*X\n",
        "eps = 0.1*np.random.randn(m)\n",
        "Y = 1.5*X2+ 2*X - 0.5 +eps\n",
        "X = np.reshape(X, (1,m))\n",
        "Y = np.reshape(Y, (1,m))\n"
      ],
      "metadata": {
        "id": "jYjghoEBb4Dc"
      },
      "execution_count": null,
      "outputs": []
    },
    {
      "cell_type": "code",
      "source": [
        "plt.scatter(X, Y)"
      ],
      "metadata": {
        "id": "8yO_-hpzcyUA",
        "colab": {
          "base_uri": "https://localhost:8080/",
          "height": 283
        },
        "outputId": "a4ee783b-9fea-4a04-ce4c-c30a1ed53a24"
      },
      "execution_count": null,
      "outputs": [
        {
          "output_type": "execute_result",
          "data": {
            "text/plain": [
              "<matplotlib.collections.PathCollection at 0x7f061a55cf10>"
            ]
          },
          "metadata": {},
          "execution_count": 6
        },
        {
          "output_type": "display_data",
          "data": {
            "text/plain": [
              "<Figure size 432x288 with 1 Axes>"
            ],
            "image/png": "[encoded data removed]"
          },
          "metadata": {
            "needs_background": "light"
          }
        }
      ]
    },
    {
      "cell_type": "code",
      "source": [
        "model=ShallowNet()\n",
        "model.train(X,Y, epochs=5000)"
      ],
      "metadata": {
        "id": "zsqVkv5yc6QG",
        "colab": {
          "base_uri": "https://localhost:8080/",
          "height": 265
        },
        "outputId": "7f9f62d4-12e0-46fb-fc3a-0f4af50a00c3"
      },
      "execution_count": null,
      "outputs": [
        {
          "output_type": "display_data",
          "data": {
            "text/plain": [
              "<Figure size 432x288 with 1 Axes>"
            ],
            "image/png": "[encoded data removed]"
          },
          "metadata": {
            "needs_background": "light"
          }
        }
      ]
    },
    {
      "cell_type": "code",
      "source": [
        "model.show(X,Y)"
      ],
      "metadata": {
        "id": "K3o8XLoAdFAk",
        "colab": {
          "base_uri": "https://localhost:8080/",
          "height": 265
        },
        "outputId": "f24e1bce-0d25-4ce9-9df8-7e4db8d274bf"
      },
      "execution_count": null,
      "outputs": [
        {
          "output_type": "display_data",
          "data": {
            "text/plain": [
              "<Figure size 432x288 with 1 Axes>"
            ],
            "image/png": "[encoded data removed]"
          },
          "metadata": {
            "needs_background": "light"
          }
        }
      ]
    }
  ]
}