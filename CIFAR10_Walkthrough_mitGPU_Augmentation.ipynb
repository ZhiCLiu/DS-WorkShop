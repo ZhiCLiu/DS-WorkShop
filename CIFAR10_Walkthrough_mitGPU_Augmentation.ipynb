{
  "nbformat": 4,
  "nbformat_minor": 0,
  "metadata": {
    "colab": {
      "provenance": [],
      "collapsed_sections": [],
      "include_colab_link": true
    },
    "kernelspec": {
      "name": "python3",
      "display_name": "Python 3"
    },
    "language_info": {
      "name": "python"
    },
    "accelerator": "GPU",
    "gpuClass": "standard"
  },
  "cells": [
    {
      "cell_type": "markdown",
      "metadata": {
        "id": "view-in-github",
        "colab_type": "text"
      },
      "source": [
        "<a href=\"https://colab.research.google.com/github/ZhiCLiu/DS-WorkShop/blob/main/CIFAR10_Walkthrough_mitGPU_Augmentation.ipynb\" target=\"_parent\"><img src=\"https://colab.research.google.com/assets/colab-badge.svg\" alt=\"Open In Colab\"/></a>"
      ]
    },
    {
      "cell_type": "code",
      "execution_count": null,
      "metadata": {
        "id": "AH1J8-9M-T90"
      },
      "outputs": [],
      "source": [
        "import torch \n",
        "import torch.nn as nn\n",
        "from torch.utils.data import TensorDataset, DataLoader\n",
        "import torch.nn.functional as F\n",
        "from torch.optim import SGD, Adam\n",
        "import matplotlib.pyplot as plt\n",
        "\n",
        "import torchvision\n",
        "from torchvision.datasets import CIFAR10\n",
        "import torchvision.transforms as transforms"
      ]
    },
    {
      "cell_type": "code",
      "source": [
        "transform =transforms.Compose([transforms.ToTensor()])"
      ],
      "metadata": {
        "id": "FUGRuuPv-4zy"
      },
      "execution_count": null,
      "outputs": []
    },
    {
      "cell_type": "code",
      "source": [
        "train_dataset = CIFAR10(root='data/', train=True, download=True, transform=transform)\n",
        "validation_dataset = CIFAR10(root='data/', train=False, download=True, transform=transform)"
      ],
      "metadata": {
        "id": "G1q097ml-kJn"
      },
      "execution_count": null,
      "outputs": []
    },
    {
      "cell_type": "code",
      "source": [
        "sample_image = train_dataset[19][0]\n",
        "plt.imshow(sample_image.permute(1, 2, 0));"
      ],
      "metadata": {
        "id": "pdnVgQeXY6ye"
      },
      "execution_count": null,
      "outputs": []
    },
    {
      "cell_type": "code",
      "source": [
        "image1 = transforms.RandomHorizontalFlip()(sample_image)\n",
        "plt.imshow(image1.permute(1, 2, 0));"
      ],
      "metadata": {
        "id": "xSXmQscQZDz-"
      },
      "execution_count": null,
      "outputs": []
    },
    {
      "cell_type": "code",
      "source": [
        "image2 = transforms.RandomVerticalFlip()(sample_image)\n",
        "plt.imshow(image2.permute(1, 2, 0));"
      ],
      "metadata": {
        "id": "5UiSm208Z5gR"
      },
      "execution_count": null,
      "outputs": []
    },
    {
      "cell_type": "code",
      "source": [
        "image3 = transforms.RandomRotation(45)(sample_image)\n",
        "plt.imshow(image3.permute(1, 2, 0));"
      ],
      "metadata": {
        "id": "aSCFwwPcZ_S3"
      },
      "execution_count": null,
      "outputs": []
    },
    {
      "cell_type": "code",
      "source": [
        "image4 = transforms.RandomAffine(10)(sample_image)\n",
        "plt.imshow(image4.permute(1, 2, 0));"
      ],
      "metadata": {
        "id": "pxNZWLHzaeId"
      },
      "execution_count": null,
      "outputs": []
    },
    {
      "cell_type": "code",
      "source": [
        "image5 = transforms.RandomCrop(32,32)(sample_image)\n",
        "plt.imshow(image5.permute(1, 2, 0));"
      ],
      "metadata": {
        "id": "hEvLahxNav_u"
      },
      "execution_count": null,
      "outputs": []
    },
    {
      "cell_type": "code",
      "source": [
        "train_transform =transforms.Compose([transforms.RandomHorizontalFlip(),\n",
        "                                     transforms.RandomVerticalFlip(),\n",
        "                                     transforms.RandomCrop(32),\n",
        "                                     transforms.ToTensor(), \n",
        "                                     transforms.Normalize((0.5, 0.5, 0.5), (0.5, 0.5, 0.5)),\n",
        "                                     ])"
      ],
      "metadata": {
        "id": "H7KXRPIpa_jZ"
      },
      "execution_count": null,
      "outputs": []
    },
    {
      "cell_type": "code",
      "source": [
        "validation_transform =transforms.Compose([transforms.ToTensor(), transforms.Normalize((0.5, 0.5, 0.5), (0.5, 0.5, 0.5))])"
      ],
      "metadata": {
        "id": "ug0i5GCTbObv"
      },
      "execution_count": null,
      "outputs": []
    },
    {
      "cell_type": "code",
      "source": [
        "train_dataset = CIFAR10(root='data/', train=True, download=True, transform=train_transform)\n",
        "validation_dataset = CIFAR10(root='data/', train=False, download=True, transform=validation_transform)"
      ],
      "metadata": {
        "id": "98pwdsVea_Mp"
      },
      "execution_count": null,
      "outputs": []
    },
    {
      "cell_type": "code",
      "source": [
        "train_dl = DataLoader(train_dataset, batch_size= 32, shuffle=True, num_workers=2)\n",
        "validation_dl = DataLoader(validation_dataset, batch_size= 32, num_workers=2)"
      ],
      "metadata": {
        "id": "afUqveQG_Fns"
      },
      "execution_count": null,
      "outputs": []
    },
    {
      "cell_type": "code",
      "source": [
        "for xb,yb in train_dl:\n",
        "  print(xb.shape)\n",
        "  print(yb.shape)\n",
        "  break"
      ],
      "metadata": {
        "id": "6VWdLKM9_U0z"
      },
      "execution_count": null,
      "outputs": []
    },
    {
      "cell_type": "code",
      "source": [
        "def denorm(images, means=0.5, stds=0.5):\n",
        "  images_standard = (images*means)+stds\n",
        "  return images_standard"
      ],
      "metadata": {
        "id": "em_FgjcF_x2Y"
      },
      "execution_count": null,
      "outputs": []
    },
    {
      "cell_type": "code",
      "source": [
        "print(train_dataset.classes)\n",
        "print(len(train_dataset.classes), \" classes\")\n",
        "print(len(train_dataset))\n",
        "print(len(validation_dataset))"
      ],
      "metadata": {
        "id": "aO6lDzEIBE4y"
      },
      "execution_count": null,
      "outputs": []
    },
    {
      "cell_type": "code",
      "source": [
        "grid_img = torchvision.utils.make_grid(denorm(xb), nrow=8)\n",
        "plt.figure(figsize=(12,12))\n",
        "plt.imshow(grid_img.permute(1, 2, 0));"
      ],
      "metadata": {
        "id": "xbw-yoIf_fRy"
      },
      "execution_count": null,
      "outputs": []
    },
    {
      "cell_type": "code",
      "source": [
        "class MyCNN(nn.Module):\n",
        "  def __init__(self, input_channels=3, output_shape=10):\n",
        "    super().__init__()\n",
        "    self.conv1 = nn.Conv2d(in_channels=3, out_channels=32, kernel_size=3, stride=1, padding=1)\n",
        "    self.pool1 = nn.MaxPool2d(kernel_size=2, stride=2)\n",
        "\n",
        "    self.conv2 = nn.Conv2d(in_channels=32, out_channels=64, kernel_size=3, stride=1, padding=1)\n",
        "    self.pool2 = nn.MaxPool2d(kernel_size=2, stride=2)\n",
        "    \n",
        "    self.flatten = nn.Flatten()\n",
        "    self.fc = nn.Linear(4096, 10)\n",
        "\n",
        "    self.relu = nn.ReLU()\n",
        "\n",
        "  def forward(self, xb):\n",
        "    x = self.relu(self.conv1(xb))\n",
        "    x = self.pool1(x)\n",
        "\n",
        "    x = self.relu(self.conv2(x))\n",
        "    x = self.pool2(x)\n",
        "\n",
        "    x = self.flatten(x)\n",
        "    out = self.fc(x)\n",
        "    return out"
      ],
      "metadata": {
        "id": "PeDHY1Mh_jjz"
      },
      "execution_count": null,
      "outputs": []
    },
    {
      "cell_type": "code",
      "source": [
        "def get_accuracy(scores, labels):\n",
        "  softmax_scores = F.softmax(scores, dim=1)\n",
        "  _, predictions = torch.max(softmax_scores, dim=1)\n",
        "  acc = torch.sum(predictions == labels).item()/len(labels)\n",
        "  return acc"
      ],
      "metadata": {
        "id": "ir0tKWowBAFD"
      },
      "execution_count": null,
      "outputs": []
    },
    {
      "cell_type": "code",
      "source": [
        "def get_device():\n",
        "  if torch.cuda.is_available():\n",
        "    return torch.device('cuda')\n",
        "  else:\n",
        "    return torch.device('cpu')"
      ],
      "metadata": {
        "id": "cMV_7QHcNwze"
      },
      "execution_count": null,
      "outputs": []
    },
    {
      "cell_type": "code",
      "source": [
        "device = get_device()\n",
        "print(device)"
      ],
      "metadata": {
        "id": "G3wqnb5QN0bl"
      },
      "execution_count": null,
      "outputs": []
    },
    {
      "cell_type": "code",
      "source": [
        "lr = 0.001\n",
        "num_epochs = 10\n",
        "model = MyCNN().to(device)\n",
        "\n",
        "loss_fn = F.cross_entropy\n",
        "opt = SGD(model.parameters(),lr=lr)"
      ],
      "metadata": {
        "id": "Om_bQD9fORL3"
      },
      "execution_count": null,
      "outputs": []
    },
    {
      "cell_type": "code",
      "source": [
        "for epoch in range(num_epochs):\n",
        "  model.train()\n",
        "  for xb, yb in train_dl:\n",
        "    xb = xb.to(device)\n",
        "    yb = yb.to(device)\n",
        "    outputs = model(xb)\n",
        "    loss = loss_fn(outputs, yb)\n",
        "    opt.zero_grad()\n",
        "    loss.backward()\n",
        "    opt.step()\n",
        "\n",
        "  model.eval()\n",
        "  batch_accuracies =[]\n",
        "  for xb, yb in validation_dl:\n",
        "    xb = xb.to(device)\n",
        "    yb = yb.to(device)\n",
        "    outputs = model(xb)\n",
        "    batch_accuracy = get_accuracy(outputs, yb)\n",
        "    batch_accuracies.append(batch_accuracy)\n",
        "\n",
        "  epoch_accuracy = torch.tensor(batch_accuracies).mean().item()\n",
        "  print(f\"Epoch: {epoch+1} \\t Accuracy: {epoch_accuracy}\")"
      ],
      "metadata": {
        "id": "wTzD_zLLO54d"
      },
      "execution_count": null,
      "outputs": []
    },
    {
      "cell_type": "markdown",
      "source": [
        "***Exercise***\n",
        "\n",
        "Now, you need to define your own CNN architecture and train it for 10 epochs on the GPU. Campare the performance on the validation dataset to select between the SGD optimizer and the Adam optimizer.\n",
        "\n",
        "A suggestion is:\n",
        "Layer 1: Conv2D with 3 input_channels, 32 output_channels\n",
        "Layer 2: Conv2D 32 input_chanels, 64, output_channels\n",
        "Layer 3: MaxPooling\n",
        "\n",
        "Layer 4: Conv2D with 64 input_channels, 128 output_channels\n",
        "Layer 5: Conv2D with 128 input_channels, 256 output_channels\n",
        "Layer 6: MaxPooling\n",
        "\n",
        "Layer 7: Flatten\n",
        "Layer 8: Linear Layer with 8192 inputs dimension, 512 output dimension\n",
        "Layer 9: Linear Layer with 512 D input and 10 D output\n",
        "\n",
        "All Conv and Linear Layers need a relu activation, except for Layer 9.\n",
        "The kernel size is 3, stide is 1 and padding is 1 for all Conv layers.\n",
        "No activation directly after the Maxpool layers, and they can have a stride of 2 and a filter size of 2 (ie, 2,2)"
      ],
      "metadata": {
        "id": "MO74oOWFOept"
      }
    },
    {
      "cell_type": "code",
      "source": [],
      "metadata": {
        "id": "tniZvYIYO9NT"
      },
      "execution_count": null,
      "outputs": []
    },
    {
      "cell_type": "code",
      "source": [],
      "metadata": {
        "id": "kQW-4zGgPyeP"
      },
      "execution_count": null,
      "outputs": []
    }
  ]
}