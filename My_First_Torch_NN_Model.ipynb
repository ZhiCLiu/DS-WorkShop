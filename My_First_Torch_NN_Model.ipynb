{
  "nbformat": 4,
  "nbformat_minor": 0,
  "metadata": {
    "colab": {
      "provenance": [],
      "include_colab_link": true
    },
    "kernelspec": {
      "name": "python3",
      "display_name": "Python 3"
    },
    "language_info": {
      "name": "python"
    }
  },
  "cells": [
    {
      "cell_type": "markdown",
      "metadata": {
        "id": "view-in-github",
        "colab_type": "text"
      },
      "source": [
        "<a href=\"https://colab.research.google.com/github/ZhiCLiu/DS-WorkShop/blob/main/My_First_Torch_NN_Model.ipynb\" target=\"_parent\"><img src=\"https://colab.research.google.com/assets/colab-badge.svg\" alt=\"Open In Colab\"/></a>"
      ]
    },
    {
      "cell_type": "code",
      "execution_count": null,
      "metadata": {
        "id": "m8tmoAhU1iYd"
      },
      "outputs": [],
      "source": [
        "import torch \n",
        "import torch.nn as nn\n",
        "from torch.utils.data import TensorDataset, DataLoader\n",
        "import torch.nn.functional as F\n",
        "from torch.optim import SGD\n",
        "import matplotlib.pyplot as plt"
      ]
    },
    {
      "cell_type": "code",
      "source": [],
      "metadata": {
        "id": "BzYw8VH1kkc0"
      },
      "execution_count": null,
      "outputs": []
    },
    {
      "cell_type": "code",
      "source": [
        "n = 128\n",
        "x = torch.linspace(-1,1,n)\n",
        "x2 = x*x\n",
        "eps = 0.1*torch.randn(n)\n",
        "\n",
        "y = 1.5*x2+ 2*x - 0.5 +eps\n",
        "\n",
        "X = torch.reshape(x, (-1,1))\n",
        "Y = torch.reshape(y, (n,1))\n",
        "\n",
        "X.shape, Y.shape"
      ],
      "metadata": {
        "id": "Cm3_M1Zr2Z-N",
        "colab": {
          "base_uri": "https://localhost:8080/"
        },
        "outputId": "87ca52f2-b7fd-453a-ed95-e3b746f874b9"
      },
      "execution_count": null,
      "outputs": [
        {
          "output_type": "execute_result",
          "data": {
            "text/plain": [
              "(torch.Size([128, 1]), torch.Size([128, 1]))"
            ]
          },
          "metadata": {},
          "execution_count": 4
        }
      ]
    },
    {
      "cell_type": "code",
      "source": [
        "plt.scatter(x,y)"
      ],
      "metadata": {
        "id": "b7Ag5JZh2mCN",
        "colab": {
          "base_uri": "https://localhost:8080/",
          "height": 283
        },
        "outputId": "e88e2975-a991-4613-d863-591fff36490b"
      },
      "execution_count": null,
      "outputs": [
        {
          "output_type": "execute_result",
          "data": {
            "text/plain": [
              "<matplotlib.collections.PathCollection at 0x7fa519f2dc90>"
            ]
          },
          "metadata": {},
          "execution_count": 5
        },
        {
          "output_type": "display_data",
          "data": {
            "text/plain": [
              "<Figure size 432x288 with 1 Axes>"
            ],
            "image/png": "[encoded data removed]"
          },
          "metadata": {
            "needs_background": "light"
          }
        }
      ]
    },
    {
      "cell_type": "code",
      "source": [
        "class MyModel(nn.Module):\n",
        "  def __init__(self, input_dim=1, hidden_dim= 64,  output_dim=1):\n",
        "    super().__init__()\n",
        "    self.layer1 = nn.Linear(input_dim, hidden_dim)\n",
        "    self.relu = nn.ReLU()\n",
        "    self.layer2 = nn.Linear(hidden_dim, output_dim)\n",
        "    #or nn.Sigmoid(), which ever one you wish.\n",
        "\n",
        "  def forward(self, xb):\n",
        "    x = self.layer1(xb)\n",
        "    x = self.relu(x)\n",
        "    out = self.layer2(x)\n",
        "    return out"
      ],
      "metadata": {
        "id": "cuO07nug2ocn"
      },
      "execution_count": null,
      "outputs": []
    },
    {
      "cell_type": "code",
      "source": [
        "training_dataset = TensorDataset(X, Y)\n",
        "training_loader = DataLoader(training_dataset, batch_size=32, shuffle=True)"
      ],
      "metadata": {
        "id": "UyPFmOnF3pHr"
      },
      "execution_count": null,
      "outputs": []
    },
    {
      "cell_type": "code",
      "source": [],
      "metadata": {
        "id": "IjRhwByUmp-o"
      },
      "execution_count": null,
      "outputs": []
    },
    {
      "cell_type": "code",
      "source": [
        "for batch in training_loader:\n",
        "  xb, yb = batch\n",
        "  print(yb)\n",
        "  break"
      ],
      "metadata": {
        "colab": {
          "base_uri": "https://localhost:8080/"
        },
        "id": "_j-98FJRnga9",
        "outputId": "e9a8a3bf-7540-4c75-ba47-f27e299faea1"
      },
      "execution_count": null,
      "outputs": [
        {
          "output_type": "stream",
          "name": "stdout",
          "text": [
            "tensor([[-1.1865],\n",
            "        [-1.1094],\n",
            "        [-1.3330],\n",
            "        [-1.0633]])\n"
          ]
        }
      ]
    },
    {
      "cell_type": "code",
      "source": [
        "for batch in training_loader:\n",
        "  xb, yb = batch\n",
        "  print(xb.shape)"
      ],
      "metadata": {
        "id": "xfUidoTB4O8V",
        "colab": {
          "base_uri": "https://localhost:8080/"
        },
        "outputId": "5a69bc64-1204-4c3e-f4b4-86e3d6c9de8e"
      },
      "execution_count": null,
      "outputs": [
        {
          "output_type": "stream",
          "name": "stdout",
          "text": [
            "torch.Size([32, 1])\n",
            "torch.Size([32, 1])\n",
            "torch.Size([32, 1])\n",
            "torch.Size([32, 1])\n"
          ]
        }
      ]
    },
    {
      "cell_type": "code",
      "source": [
        "num_epochs = 100\n",
        "lr = 0.01\n",
        "epoch_loss = []\n",
        "\n",
        "model = MyModel()\n",
        "opt = SGD(model.parameters(), lr = lr)\n",
        "\n",
        "for i in range(num_epochs):\n",
        "  batch_losses = []\n",
        "  for xb,yb in training_loader:\n",
        "    yhat = model(xb)\n",
        "    loss = F.mse_loss(yhat, yb)\n",
        "    opt.zero_grad()\n",
        "    loss.backward()\n",
        "    opt.step()\n",
        "    batch_losses.append(loss.detach().item())\n",
        "\n",
        "  epoch_loss.append(torch.tensor(batch_losses).mean().item())\n",
        "\n",
        "plt.plot(epoch_loss)"
      ],
      "metadata": {
        "id": "uWHWp1c34W3s",
        "colab": {
          "base_uri": "https://localhost:8080/",
          "height": 283
        },
        "outputId": "13ce8220-8c4d-43cc-a651-c26e25e314a1"
      },
      "execution_count": null,
      "outputs": [
        {
          "output_type": "execute_result",
          "data": {
            "text/plain": [
              "[<matplotlib.lines.Line2D at 0x7fa58bf74e10>]"
            ]
          },
          "metadata": {},
          "execution_count": 34
        },
        {
          "output_type": "display_data",
          "data": {
            "text/plain": [
              "<Figure size 432x288 with 1 Axes>"
            ],
            "image/png": "[encoded data removed]"
          },
          "metadata": {
            "needs_background": "light"
          }
        }
      ]
    },
    {
      "cell_type": "code",
      "source": [
        "ypred = model(X)\n",
        "plt.scatter(x,y, alpha=0.4)\n",
        "plt.plot(x, ypred.detach().numpy())"
      ],
      "metadata": {
        "id": "JBF4x-KQ5jRd",
        "colab": {
          "base_uri": "https://localhost:8080/",
          "height": 283
        },
        "outputId": "1d34f88a-3a6f-4d45-883b-b979f207c20e"
      },
      "execution_count": null,
      "outputs": [
        {
          "output_type": "execute_result",
          "data": {
            "text/plain": [
              "[<matplotlib.lines.Line2D at 0x7fa519797f90>]"
            ]
          },
          "metadata": {},
          "execution_count": 33
        },
        {
          "output_type": "display_data",
          "data": {
            "text/plain": [
              "<Figure size 432x288 with 1 Axes>"
            ],
            "image/png": "[encoded data removed]"
          },
          "metadata": {
            "needs_background": "light"
          }
        }
      ]
    },
    {
      "cell_type": "code",
      "source": [
        "model_illustration = MyModel()"
      ],
      "metadata": {
        "id": "FWtqbA8q5-Nm"
      },
      "execution_count": null,
      "outputs": []
    },
    {
      "cell_type": "code",
      "source": [
        "model_illustration.parameters()"
      ],
      "metadata": {
        "colab": {
          "base_uri": "https://localhost:8080/"
        },
        "id": "BWmzCSaFpDeC",
        "outputId": "7e2ea4dd-6172-4e4b-98aa-333b9d33dce7"
      },
      "execution_count": null,
      "outputs": [
        {
          "output_type": "execute_result",
          "data": {
            "text/plain": [
              "<bound method Module.parameters of MyModel(\n",
              "  (layer1): Linear(in_features=1, out_features=64, bias=True)\n",
              "  (relu): ReLU()\n",
              "  (layer2): Linear(in_features=64, out_features=1, bias=True)\n",
              ")>"
            ]
          },
          "metadata": {},
          "execution_count": 30
        }
      ]
    },
    {
      "cell_type": "code",
      "source": [
        "SGD?"
      ],
      "metadata": {
        "id": "TDfL7oZ_pH3j"
      },
      "execution_count": null,
      "outputs": []
    },
    {
      "cell_type": "code",
      "source": [],
      "metadata": {
        "id": "Vtw6PuV_pRB-"
      },
      "execution_count": null,
      "outputs": []
    }
  ]
}