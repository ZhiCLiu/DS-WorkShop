{
  "nbformat": 4,
  "nbformat_minor": 0,
  "metadata": {
    "colab": {
      "provenance": [],
      "include_colab_link": true
    },
    "kernelspec": {
      "name": "python3",
      "display_name": "Python 3"
    },
    "language_info": {
      "name": "python"
    }
  },
  "cells": [
    {
      "cell_type": "markdown",
      "metadata": {
        "id": "view-in-github",
        "colab_type": "text"
      },
      "source": [
        "<a href=\"https://colab.research.google.com/github/ZhiCLiu/DS-WorkShop/blob/main/Introduction_to_Torch.ipynb\" target=\"_parent\"><img src=\"https://colab.research.google.com/assets/colab-badge.svg\" alt=\"Open In Colab\"/></a>"
      ]
    },
    {
      "cell_type": "code",
      "execution_count": null,
      "metadata": {
        "id": "K8EBC02F_c5p"
      },
      "outputs": [],
      "source": [
        "import torch #This is new, please note this.\n",
        "import numpy as np\n",
        "import matplotlib.pyplot as plt"
      ]
    },
    {
      "cell_type": "markdown",
      "source": [
        "The ideal manner to think of torch is as Numpy with a few add ons (Numpy on steroids?). \n",
        "In the numpy facet, you get access to data structures that are \"like\" numpy arrays, called torch tensors...along with all the operations (like linear algebra, trig functions, randomization, etc)\n",
        "\n",
        "The add ons include GPU support, Automatic differentiation (AD) and a few predefined classes and methods for different layers, optimizers, data streams, etc. "
      ],
      "metadata": {
        "id": "E3IeVRtRBNsA"
      }
    },
    {
      "cell_type": "code",
      "source": [
        "np_scalar = np.array(42)\n",
        "np_vector = np.array([1., 2., 3.])\n",
        "np_matrix = np.array([[1,2,3],[4,5,6],[7,8,9]])\n",
        "\n",
        "print(np_scalar)\n",
        "print(np_vector)\n",
        "print(np_matrix)"
      ],
      "metadata": {
        "id": "8hPqq2BDB5v-",
        "colab": {
          "base_uri": "https://localhost:8080/"
        },
        "outputId": "110f315d-b3c0-43c9-b76f-35db0f4960e4"
      },
      "execution_count": null,
      "outputs": [
        {
          "output_type": "stream",
          "name": "stdout",
          "text": [
            "42\n",
            "[1. 2. 3.]\n",
            "[[1 2 3]\n",
            " [4 5 6]\n",
            " [7 8 9]]\n"
          ]
        }
      ]
    },
    {
      "cell_type": "code",
      "source": [
        "print(np_scalar.shape)\n",
        "print(np_vector.shape)\n",
        "print(np_matrix.shape)"
      ],
      "metadata": {
        "id": "XAZQVagMCzoW",
        "colab": {
          "base_uri": "https://localhost:8080/"
        },
        "outputId": "a08b58d1-8ad8-4c47-f7d0-b4a6e55db693"
      },
      "execution_count": null,
      "outputs": [
        {
          "output_type": "stream",
          "name": "stdout",
          "text": [
            "()\n",
            "(3,)\n",
            "(3, 3)\n"
          ]
        }
      ]
    },
    {
      "cell_type": "code",
      "source": [
        "print(np_scalar.dtype)\n",
        "print(np_vector.dtype)\n",
        "print(np_matrix.dtype)"
      ],
      "metadata": {
        "id": "DIMagtOOC65G",
        "colab": {
          "base_uri": "https://localhost:8080/"
        },
        "outputId": "98df141f-655f-4ee7-d200-dd9f875dc013"
      },
      "execution_count": null,
      "outputs": [
        {
          "output_type": "stream",
          "name": "stdout",
          "text": [
            "int64\n",
            "float64\n",
            "int64\n"
          ]
        }
      ]
    },
    {
      "cell_type": "code",
      "source": [
        "torch_scalar = torch.tensor(42)\n",
        "torch_vector = torch.tensor([1., 2., 3.])\n",
        "torch_matrix = torch.tensor([[1,2,3],[4,5,6],[7,8,9]])\n",
        "\n",
        "print(torch_scalar)\n",
        "print(torch_vector)\n",
        "print(torch_matrix)"
      ],
      "metadata": {
        "id": "kD0AOg0mDHvE",
        "colab": {
          "base_uri": "https://localhost:8080/"
        },
        "outputId": "9862b13f-b0c7-44aa-9645-2bfaddebe12c"
      },
      "execution_count": null,
      "outputs": [
        {
          "output_type": "stream",
          "name": "stdout",
          "text": [
            "tensor(42)\n",
            "tensor([1., 2., 3.])\n",
            "tensor([[1, 2, 3],\n",
            "        [4, 5, 6],\n",
            "        [7, 8, 9]])\n"
          ]
        }
      ]
    },
    {
      "cell_type": "code",
      "source": [
        "print(torch_scalar.shape)\n",
        "print(torch_vector.shape)\n",
        "print(torch_matrix.shape)"
      ],
      "metadata": {
        "id": "RFcGqhqnDXjB",
        "colab": {
          "base_uri": "https://localhost:8080/"
        },
        "outputId": "374c234f-c335-4da8-f4ea-e949ac376cbf"
      },
      "execution_count": null,
      "outputs": [
        {
          "output_type": "stream",
          "name": "stdout",
          "text": [
            "torch.Size([])\n",
            "torch.Size([3])\n",
            "torch.Size([3, 3])\n"
          ]
        }
      ]
    },
    {
      "cell_type": "code",
      "source": [
        "print(torch_scalar.dtype)\n",
        "print(torch_vector.dtype) #Please note this when converting numpy data to torch tensors.\n",
        "print(torch_matrix.dtype)"
      ],
      "metadata": {
        "id": "sdM2jDUqNzKD",
        "colab": {
          "base_uri": "https://localhost:8080/"
        },
        "outputId": "6e26f3a8-0491-4dbc-84ff-d47d90bb6f53"
      },
      "execution_count": null,
      "outputs": [
        {
          "output_type": "stream",
          "name": "stdout",
          "text": [
            "torch.int64\n",
            "torch.float32\n",
            "torch.int64\n"
          ]
        }
      ]
    },
    {
      "cell_type": "code",
      "source": [
        "t = torch.from_numpy(np_vector)\n",
        "t"
      ],
      "metadata": {
        "id": "uxjo2yRyu_SU",
        "colab": {
          "base_uri": "https://localhost:8080/"
        },
        "outputId": "c4642443-88f7-4e72-96ef-8595eb855289"
      },
      "execution_count": null,
      "outputs": [
        {
          "output_type": "execute_result",
          "data": {
            "text/plain": [
              "tensor([1., 2., 3.], dtype=torch.float64)"
            ]
          },
          "metadata": {},
          "execution_count": 8
        }
      ]
    },
    {
      "cell_type": "code",
      "source": [
        "torch_vector.numpy()"
      ],
      "metadata": {
        "id": "HSg3TMqdu_fP",
        "colab": {
          "base_uri": "https://localhost:8080/"
        },
        "outputId": "dc94e450-46b0-4d11-a35c-9cafd0f59de4"
      },
      "execution_count": null,
      "outputs": [
        {
          "output_type": "execute_result",
          "data": {
            "text/plain": [
              "array([1., 2., 3.], dtype=float32)"
            ]
          },
          "metadata": {},
          "execution_count": 9
        }
      ]
    },
    {
      "cell_type": "markdown",
      "source": [
        "(Some) torch operations on tensors\n"
      ],
      "metadata": {
        "id": "vt9MKSv1dUkf"
      }
    },
    {
      "cell_type": "code",
      "source": [
        "torch.sin(torch_vector)"
      ],
      "metadata": {
        "id": "P-nhLmhKN3Rj",
        "colab": {
          "base_uri": "https://localhost:8080/"
        },
        "outputId": "a9ece9ad-c507-46cc-a261-6193ece5a21b"
      },
      "execution_count": null,
      "outputs": [
        {
          "output_type": "execute_result",
          "data": {
            "text/plain": [
              "tensor([0.8415, 0.9093, 0.1411])"
            ]
          },
          "metadata": {},
          "execution_count": 10
        }
      ]
    },
    {
      "cell_type": "code",
      "source": [
        "torch.zeros_like(torch_vector)"
      ],
      "metadata": {
        "id": "-dmHp1XpTxwU",
        "colab": {
          "base_uri": "https://localhost:8080/"
        },
        "outputId": "9b2819e7-ab65-404a-a6ab-c1c2291eecc8"
      },
      "execution_count": null,
      "outputs": [
        {
          "output_type": "execute_result",
          "data": {
            "text/plain": [
              "tensor([0., 0., 0.])"
            ]
          },
          "metadata": {},
          "execution_count": 14
        }
      ]
    },
    {
      "cell_type": "code",
      "source": [
        "temp = torch.arange(1,10, dtype=torch.float)\n",
        "temp = temp.reshape((3,3))\n",
        "print(temp)"
      ],
      "metadata": {
        "id": "eXu379CBTx4t",
        "colab": {
          "base_uri": "https://localhost:8080/"
        },
        "outputId": "deebf558-52df-4d3d-98bb-bfc119a75758"
      },
      "execution_count": null,
      "outputs": [
        {
          "output_type": "stream",
          "name": "stdout",
          "text": [
            "tensor([[1., 2., 3.],\n",
            "        [4., 5., 6.],\n",
            "        [7., 8., 9.]])\n"
          ]
        }
      ]
    },
    {
      "cell_type": "code",
      "source": [
        "temp @ torch_vector"
      ],
      "metadata": {
        "id": "JkHCCwnhTyBF",
        "colab": {
          "base_uri": "https://localhost:8080/"
        },
        "outputId": "623c2691-e339-4457-dfd3-1c51deea645f"
      },
      "execution_count": null,
      "outputs": [
        {
          "output_type": "execute_result",
          "data": {
            "text/plain": [
              "tensor([14., 32., 50.])"
            ]
          },
          "metadata": {},
          "execution_count": 16
        }
      ]
    },
    {
      "cell_type": "code",
      "source": [
        "t1 = torch.tensor([[1,2,3]])\n",
        "t2 = torch.tensor([[4,5,6]])\n",
        "t3 = torch.tensor([[7,8,9]])\n"
      ],
      "metadata": {
        "id": "AR-fc6gutMHv"
      },
      "execution_count": null,
      "outputs": []
    },
    {
      "cell_type": "code",
      "source": [
        "tstack = torch.stack((t1,t2,t3, t1, t2), dim=0) #along new axis\n",
        "print(tstack)\n",
        "print(tstack.shape)"
      ],
      "metadata": {
        "id": "i6Z8-tOWtMQ3",
        "colab": {
          "base_uri": "https://localhost:8080/"
        },
        "outputId": "8f323011-57fd-4cc7-ada7-82cc54fc7ab2"
      },
      "execution_count": null,
      "outputs": [
        {
          "output_type": "stream",
          "name": "stdout",
          "text": [
            "tensor([[[1, 2, 3]],\n",
            "\n",
            "        [[4, 5, 6]],\n",
            "\n",
            "        [[7, 8, 9]],\n",
            "\n",
            "        [[1, 2, 3]],\n",
            "\n",
            "        [[4, 5, 6]]])\n",
            "torch.Size([5, 1, 3])\n"
          ]
        }
      ]
    },
    {
      "cell_type": "code",
      "source": [
        "tcat = torch.cat((t1,t2,t3), dim=0) #along extant axis\n",
        "print(tcat)\n",
        "print(tcat.shape)"
      ],
      "metadata": {
        "id": "WfSf3M8etMaW",
        "colab": {
          "base_uri": "https://localhost:8080/"
        },
        "outputId": "e697761d-c0d8-4a2c-acb0-0b8f527bab19"
      },
      "execution_count": null,
      "outputs": [
        {
          "output_type": "stream",
          "name": "stdout",
          "text": [
            "tensor([[1, 2, 3],\n",
            "        [4, 5, 6],\n",
            "        [7, 8, 9]])\n",
            "torch.Size([3, 3])\n"
          ]
        }
      ]
    },
    {
      "cell_type": "code",
      "source": [
        "temp = torch.arange(1,7, dtype=torch.float)\n",
        "temp = temp.reshape((3,2))\n",
        "temp"
      ],
      "metadata": {
        "id": "USPqqRlztMjP",
        "colab": {
          "base_uri": "https://localhost:8080/"
        },
        "outputId": "08bcb03c-0595-4992-e197-6f7ff5e5ef58"
      },
      "execution_count": null,
      "outputs": [
        {
          "output_type": "execute_result",
          "data": {
            "text/plain": [
              "tensor([[1., 2.],\n",
              "        [3., 4.],\n",
              "        [5., 6.]])"
            ]
          },
          "metadata": {},
          "execution_count": 21
        }
      ]
    },
    {
      "cell_type": "code",
      "source": [
        "torch.sum(temp, dim=0)"
      ],
      "metadata": {
        "id": "Q5AysOdwt6Cc",
        "colab": {
          "base_uri": "https://localhost:8080/"
        },
        "outputId": "23459ba3-8629-42a7-a994-31cda4337b52"
      },
      "execution_count": null,
      "outputs": [
        {
          "output_type": "execute_result",
          "data": {
            "text/plain": [
              "tensor([ 9., 12.])"
            ]
          },
          "metadata": {},
          "execution_count": 22
        }
      ]
    },
    {
      "cell_type": "code",
      "source": [
        "torch.sum(temp, dim=1)"
      ],
      "metadata": {
        "id": "Q92QhaWtt6I1",
        "colab": {
          "base_uri": "https://localhost:8080/"
        },
        "outputId": "997944ba-4a3e-4d02-80b0-860c6c9b61ec"
      },
      "execution_count": null,
      "outputs": [
        {
          "output_type": "execute_result",
          "data": {
            "text/plain": [
              "tensor([ 3.,  7., 11.])"
            ]
          },
          "metadata": {},
          "execution_count": 23
        }
      ]
    },
    {
      "cell_type": "code",
      "source": [
        "max_val, max_arg = torch.max(temp, dim=0)\n",
        "print(max_val)\n",
        "print(max_arg)"
      ],
      "metadata": {
        "id": "A7j5EoF-t6P-",
        "colab": {
          "base_uri": "https://localhost:8080/"
        },
        "outputId": "5512554f-1b9d-443f-f91c-a8929a16f999"
      },
      "execution_count": null,
      "outputs": [
        {
          "output_type": "stream",
          "name": "stdout",
          "text": [
            "tensor([5., 6.])\n",
            "tensor([2, 2])\n"
          ]
        }
      ]
    },
    {
      "cell_type": "code",
      "source": [
        "rand_normal = torch.randn((2,3))\n",
        "rand_normal"
      ],
      "metadata": {
        "id": "BtQTL7lOt6X8",
        "colab": {
          "base_uri": "https://localhost:8080/"
        },
        "outputId": "0da2c0d6-f10b-4abd-dd28-d0d3aef7e240"
      },
      "execution_count": null,
      "outputs": [
        {
          "output_type": "execute_result",
          "data": {
            "text/plain": [
              "tensor([[-0.2998,  0.3436,  0.8893],\n",
              "        [ 0.4373,  0.7932, -1.8380]])"
            ]
          },
          "metadata": {},
          "execution_count": 25
        }
      ]
    },
    {
      "cell_type": "code",
      "source": [
        "torch.randn?"
      ],
      "metadata": {
        "id": "DOURdb2M1PsG"
      },
      "execution_count": null,
      "outputs": []
    },
    {
      "cell_type": "markdown",
      "source": [
        "Automatic Differentiation (aka AD or more commonly, AutoDiff) enables the automated calculation of the gradients of a quantity with respect to all the variables on its graph (that have the requisite flag)."
      ],
      "metadata": {
        "id": "KwfdIOv3UdCV"
      }
    },
    {
      "cell_type": "code",
      "source": [
        "X = torch.tensor(4.0)\n",
        "W = torch.tensor(2.0, requires_grad=True)\n",
        "b = torch.tensor(3.0, requires_grad=True)"
      ],
      "metadata": {
        "id": "Dv5h5Ab-TyJ9"
      },
      "execution_count": null,
      "outputs": []
    },
    {
      "cell_type": "code",
      "source": [
        "print(W.grad)\n",
        "print(b.grad)"
      ],
      "metadata": {
        "id": "8gPXI6oGU-qr",
        "colab": {
          "base_uri": "https://localhost:8080/"
        },
        "outputId": "21d0daa0-aec0-4a7a-c1de-b20cef5d6230"
      },
      "execution_count": null,
      "outputs": [
        {
          "output_type": "stream",
          "name": "stdout",
          "text": [
            "None\n",
            "None\n"
          ]
        }
      ]
    },
    {
      "cell_type": "code",
      "source": [
        "Y = W*X + b \n",
        "print(Y)"
      ],
      "metadata": {
        "id": "vYrpyzo5UE9w",
        "colab": {
          "base_uri": "https://localhost:8080/"
        },
        "outputId": "8dbdaa17-0836-480a-c061-60fe2ca014ac"
      },
      "execution_count": null,
      "outputs": [
        {
          "output_type": "stream",
          "name": "stdout",
          "text": [
            "tensor(11., grad_fn=<AddBackward0>)\n"
          ]
        }
      ]
    },
    {
      "cell_type": "code",
      "source": [
        "Y.backward() #This generates the gradients."
      ],
      "metadata": {
        "id": "GYkfnRkyUJ7h"
      },
      "execution_count": null,
      "outputs": []
    },
    {
      "cell_type": "code",
      "source": [
        "print(W.grad)\n",
        "print(b.grad)"
      ],
      "metadata": {
        "id": "e7_HwyNMUR7h",
        "colab": {
          "base_uri": "https://localhost:8080/"
        },
        "outputId": "762ea535-1162-43c8-dec6-94d853f4ef19"
      },
      "execution_count": null,
      "outputs": [
        {
          "output_type": "stream",
          "name": "stdout",
          "text": [
            "tensor(4.)\n",
            "tensor(1.)\n"
          ]
        }
      ]
    },
    {
      "cell_type": "code",
      "source": [
        "a = torch.tensor(3.0)\n",
        "b = torch.tensor(5.0)\n",
        "a = a+b #this creates a copy\n",
        "a"
      ],
      "metadata": {
        "id": "XblEdmAvUVEE"
      },
      "execution_count": null,
      "outputs": []
    },
    {
      "cell_type": "code",
      "source": [
        "a = torch.tensor(3.0)\n",
        "b = torch.tensor(5.0)\n",
        "a += b #this adds b to the value of a. This is the correct choice for a requires_grad variable\n",
        "a"
      ],
      "metadata": {
        "id": "kOj7DUAa3QFj"
      },
      "execution_count": null,
      "outputs": []
    },
    {
      "cell_type": "markdown",
      "source": [
        "Illustration for estimating a variable via grad operations"
      ],
      "metadata": {
        "id": "NkBgW_o03rG2"
      }
    },
    {
      "cell_type": "code",
      "source": [
        "x = torch.tensor(3.0)\n",
        "y = torch.tensor(9.0) #3.0*x... W_ideal*x\n",
        "W = torch.tensor(0.01, requires_grad=True)"
      ],
      "metadata": {
        "id": "Qn49dFgO3faG"
      },
      "execution_count": null,
      "outputs": []
    },
    {
      "cell_type": "code",
      "source": [
        "losses = []\n",
        "for _ in range(10):\n",
        "  yhat = W*x\n",
        "  loss = torch.square((y-yhat))\n",
        "  loss.backward() #dL/dW = W.grad\n",
        "  \n",
        "  with torch.no_grad(): #because we dont need these operations to be logged in the gradient graph\n",
        "    W -= 0.01*W.grad \n",
        "    W.grad.zero_() #to offset accumulation\n",
        "\n",
        "  loss_detached = loss.detach().item()\n",
        "  losses.append(loss_detached)\n",
        "\n",
        "\n",
        "print(\"W: \", W)\n",
        "plt.plot(losses);"
      ],
      "metadata": {
        "colab": {
          "base_uri": "https://localhost:8080/",
          "height": 283
        },
        "id": "MTEJWnuF4GZJ",
        "outputId": "7e3f8075-dbc1-488c-f15f-ce9cbcce8a30"
      },
      "execution_count": null,
      "outputs": [
        {
          "output_type": "stream",
          "name": "stdout",
          "text": [
            "W:  tensor(2.5890, requires_grad=True)\n"
          ]
        },
        {
          "output_type": "display_data",
          "data": {
            "text/plain": [
              "<Figure size 432x288 with 1 Axes>"
            ],
            "image/png": "[encoded data removed]"
          },
          "metadata": {
            "needs_background": "light"
          }
        }
      ]
    },
    {
      "cell_type": "code",
      "source": [],
      "metadata": {
        "id": "9cJ1GGo74okK"
      },
      "execution_count": null,
      "outputs": []
    },
    {
      "cell_type": "markdown",
      "source": [],
      "metadata": {
        "id": "aMzM31hm43TD"
      }
    }
  ]
}